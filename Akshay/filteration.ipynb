{
 "cells": [
  {
   "cell_type": "code",
   "execution_count": 12,
   "metadata": {},
   "outputs": [
    {
     "ename": "IndentationError",
     "evalue": "expected an indented block (653303803.py, line 28)",
     "output_type": "error",
     "traceback": [
      "\u001b[0;36m  File \u001b[0;32m\"/var/folders/hg/z0w_dhmn5rvcbnqk02m7dv3r0000gn/T/ipykernel_25746/653303803.py\"\u001b[0;36m, line \u001b[0;32m28\u001b[0m\n\u001b[0;31m    \u001b[0m\n\u001b[0m    ^\u001b[0m\n\u001b[0;31mIndentationError\u001b[0m\u001b[0;31m:\u001b[0m expected an indented block\n"
     ]
    }
   ],
   "source": [
    "#Code for filtering out which pokemon is the best to fight against\n",
    "\n",
    "import pandas as pd\n",
    "import numpy as np\n",
    "import requests\n",
    "from bs4 import BeautifulSoup\n",
    "\n",
    "#Get the dataframe\n",
    "pokemon = pd.read_csv('pokemon.csv')\n",
    "\n",
    "#This function will get all the attributes of a pokemon that we want to check a weakness with\n",
    "def getAttributes(poke_name):\n",
    "    attribute_list = []\n",
    "    list = [\"Type 1\", \"Type 2\"]\n",
    "    for elem in list:\n",
    "        attribute_list.append(pokemon.loc[pokemon[\"Name\"] == poke_name, elem].item())\n",
    "    return attribute_list\n",
    "\n",
    "\n",
    "#This functions purpose is to find the strongest pokemons to fight against a certain pokemon. \n",
    "def filteration(poke_name):\n",
    "    pokemon_list = pokemon\n",
    "    #We want to compare the attributes. So the next line will get all teh attributes and put it in a numpy. \n",
    "    atr_arr = getAttributes(poke_name)\n",
    "    #We will get the filters we will use from the getWeakeness function\n",
    "    arr_weakness_filters = getWeaknesses(atr_arr)\n",
    "    #This for loop is menat to filter all the pokemon that do not have these attributes\n",
    "    for filter in arr_weakness_filters:\n",
    "        pokemon_list = pokemon_list.loc[:, filter]\n",
    "\n",
    "    #We wanna check high def attack sp atk sp def\n",
    "    #Filter by possible obtainable pokemon \n",
    "    return pokemon_list\n",
    "\n"
   ]
  },
  {
   "cell_type": "code",
   "execution_count": null,
   "metadata": {},
   "outputs": [],
   "source": []
  }
 ],
 "metadata": {
  "interpreter": {
   "hash": "02e90d27480a7b64f0b86f05dba92aca2ed509569614ef6ee081bf642cc797af"
  },
  "kernelspec": {
   "display_name": "Python 3.9.7 ('base')",
   "language": "python",
   "name": "python3"
  },
  "language_info": {
   "codemirror_mode": {
    "name": "ipython",
    "version": 3
   },
   "file_extension": ".py",
   "mimetype": "text/x-python",
   "name": "python",
   "nbconvert_exporter": "python",
   "pygments_lexer": "ipython3",
   "version": "3.9.7"
  },
  "orig_nbformat": 4
 },
 "nbformat": 4,
 "nbformat_minor": 2
}
