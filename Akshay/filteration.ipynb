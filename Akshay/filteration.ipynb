{
 "cells": [
  {
   "cell_type": "code",
   "execution_count": 6,
   "metadata": {},
   "outputs": [
    {
     "name": "stdout",
     "output_type": "stream",
     "text": [
      "[Empty DataFrame\n",
      "Columns: [#, Name, Type 1, Type 2, Total, HP, Attack, Defense, Sp. Atk, Sp. Def, Speed, Generation, Legendary]\n",
      "Index: [],        #                       Name Type 1  Type 2  Total   HP  Attack  \\\n",
      "6      6                  Charizard   Fire  Flying    534   78      84   \n",
      "8      6  CharizardMega Charizard Y   Fire  Flying    634   78     104   \n",
      "158  146                    Moltres   Fire  Flying    580   90     100   \n",
      "270  250                      Ho-oh   Fire  Flying    680  106     130   \n",
      "730  662                Fletchinder   Fire  Flying    382   62      73   \n",
      "731  663                 Talonflame   Fire  Flying    499   78      81   \n",
      "\n",
      "     Defense  Sp. Atk  Sp. Def  Speed  Generation  Legendary  \n",
      "6         78      109       85    100           1      False  \n",
      "8         78      159      115    100           1      False  \n",
      "158       90      125       85     90           1       True  \n",
      "270       90      110      154     90           2       True  \n",
      "730       55       56       52     84           6      False  \n",
      "731       71       74       69    126           6      False  ,        #      Name Type 1  Type 2  Total  HP  Attack  Defense  Sp. Atk  \\\n",
      "156  144  Articuno    Ice  Flying    580  90      85      100       95   \n",
      "243  225  Delibird    Ice  Flying    330  45      55       45       65   \n",
      "\n",
      "     Sp. Def  Speed  Generation  Legendary  \n",
      "156      125     85           1       True  \n",
      "243       45     75           2      False  ]\n"
     ]
    },
    {
     "data": {
      "text/plain": [
       "[Empty DataFrame\n",
       " Columns: [#, Name, Type 1, Type 2, Total, HP, Attack, Defense, Sp. Atk, Sp. Def, Speed, Generation, Legendary]\n",
       " Index: [],\n",
       "        #                       Name Type 1  Type 2  Total   HP  Attack  \\\n",
       " 6      6                  Charizard   Fire  Flying    534   78      84   \n",
       " 8      6  CharizardMega Charizard Y   Fire  Flying    634   78     104   \n",
       " 158  146                    Moltres   Fire  Flying    580   90     100   \n",
       " 270  250                      Ho-oh   Fire  Flying    680  106     130   \n",
       " 730  662                Fletchinder   Fire  Flying    382   62      73   \n",
       " 731  663                 Talonflame   Fire  Flying    499   78      81   \n",
       " \n",
       "      Defense  Sp. Atk  Sp. Def  Speed  Generation  Legendary  \n",
       " 6         78      109       85    100           1      False  \n",
       " 8         78      159      115    100           1      False  \n",
       " 158       90      125       85     90           1       True  \n",
       " 270       90      110      154     90           2       True  \n",
       " 730       55       56       52     84           6      False  \n",
       " 731       71       74       69    126           6      False  ,\n",
       "        #      Name Type 1  Type 2  Total  HP  Attack  Defense  Sp. Atk  \\\n",
       " 156  144  Articuno    Ice  Flying    580  90      85      100       95   \n",
       " 243  225  Delibird    Ice  Flying    330  45      55       45       65   \n",
       " \n",
       "      Sp. Def  Speed  Generation  Legendary  \n",
       " 156      125     85           1       True  \n",
       " 243       45     75           2      False  ]"
      ]
     },
     "execution_count": 6,
     "metadata": {},
     "output_type": "execute_result"
    }
   ],
   "source": [
    "#Code for filtering out which pokemon is the best to fight against\n",
    "\n",
    "import pandas as pd\n",
    "import numpy as np\n",
    "import requests\n",
    "from bs4 import BeautifulSoup\n",
    "\n",
    "#Get the dataframe\n",
    "pokemon = pd.read_csv('pokemon.csv')\n",
    "types = pd.read_csv('types.csv')\n",
    "\n",
    "#This function will get all the attributes of a pokemon that we want to check a weakness with\n",
    "def getAttributes(poke_name):\n",
    "    attribute_list = []\n",
    "    list = [\"Type 1\", \"Type 2\"]\n",
    "    for elem in list:\n",
    "        attribute_list.append(pokemon.loc[pokemon[\"Name\"] == poke_name, elem].item())\n",
    "    return attribute_list\n",
    "\n",
    "#This function will give the weakness of the types given\n",
    "def getWeaknesses(type1, type2):\n",
    "    if type2 == \"\":\n",
    "        type2 = type1\n",
    "    mult1 = types.loc[:,type1]\n",
    "    mult2 = types.loc[:,type2]\n",
    "    element = []\n",
    "    max = 0\n",
    "    maxIndex = 0\n",
    "    for index in range(0,len(mult1)):\n",
    "        value = mult1[index].item() * mult2[index].item()\n",
    "        if value >= 2:\n",
    "            element.append(types.columns[index + 1])\n",
    "    return element\n",
    "\n",
    "\n",
    "#This functions purpose is to find the strongest pokemons to fight against a certain pokemon. \n",
    "def filteration(poke_name):\n",
    "    #Filter by possible obtainable pokemon \n",
    "    #We want to compare the attributes. So the next line will get all teh attributes and put it in a numpy. \n",
    "    atr_arr = getAttributes(poke_name)\n",
    "    #We will get the filters we will use from the getWeakeness function\n",
    "    filters = getWeaknesses(atr_arr[0], atr_arr[1])\n",
    "    #This for loop is menat to filter all the pokemon that do not have these attributes\n",
    "    valid_pokemon = []\n",
    "    for i in range (len(filters) - 2):\n",
    "        for j in range (i+1, (len(filters) - 1)):\n",
    "            newdf = pokemon.loc[(pokemon['Type 1'] == filters[i]) & (pokemon['Type 2'] == filters[j])]\n",
    "            newdf2 = pokemon.loc[(pokemon['Type 2'] == filters[i]) & (pokemon['Type 1'] == filters[j])]\n",
    "            frames = [newdf, newdf2]\n",
    "            result = pd.concat(frames)\n",
    "            valid_pokemon.append(result)\n",
    "\n",
    "    #We wanna check high def attack sp atk sp def\n",
    "    print(valid_pokemon)\n",
    "    return valid_pokemon\n",
    "filteration(\"Bulbasaur\")\n"
   ]
  },
  {
   "cell_type": "code",
   "execution_count": null,
   "metadata": {},
   "outputs": [],
   "source": []
  }
 ],
 "metadata": {
  "interpreter": {
   "hash": "02e90d27480a7b64f0b86f05dba92aca2ed509569614ef6ee081bf642cc797af"
  },
  "kernelspec": {
   "display_name": "Python 3.9.7 ('base')",
   "language": "python",
   "name": "python3"
  },
  "language_info": {
   "codemirror_mode": {
    "name": "ipython",
    "version": 3
   },
   "file_extension": ".py",
   "mimetype": "text/x-python",
   "name": "python",
   "nbconvert_exporter": "python",
   "pygments_lexer": "ipython3",
   "version": "3.9.7"
  },
  "orig_nbformat": 4
 },
 "nbformat": 4,
 "nbformat_minor": 2
}
